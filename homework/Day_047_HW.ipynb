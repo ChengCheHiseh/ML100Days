{
 "cells": [
  {
   "cell_type": "markdown",
   "metadata": {},
   "source": [
    "## [作業重點]\n",
    "了解如何使用 Sklearn 中的 hyper-parameter search 找出最佳的超參數"
   ]
  },
  {
   "cell_type": "markdown",
   "metadata": {},
   "source": [
    "### 作業\n",
    "請使用不同的資料集，並使用 hyper-parameter search 的方式，看能不能找出最佳的超參數組合"
   ]
  },
  {
   "cell_type": "markdown",
   "metadata": {},
   "source": [
    "## Loading and exploring the dataset\n",
    "You start off by collecting the dataset. It can be found both online and in our GitHub repository, so you can also just fetch it with wget (note: make sure you first type pip install wget into your terminal since wget is not a preinstalled Python library). This command will download a copy of the dataset to your current working directory."
   ]
  },
  {
   "cell_type": "code",
   "execution_count": 1,
   "metadata": {},
   "outputs": [
    {
     "name": "stdout",
     "output_type": "stream",
     "text": [
      "\r",
      "  0% [                                                                              ]     0 / 84199\r",
      "  9% [.......                                                                       ]  8192 / 84199\r",
      " 19% [...............                                                               ] 16384 / 84199\r",
      " 29% [......................                                                        ] 24576 / 84199\r",
      " 38% [..............................                                                ] 32768 / 84199\r",
      " 48% [.....................................                                         ] 40960 / 84199\r",
      " 58% [.............................................                                 ] 49152 / 84199\r",
      " 68% [.....................................................                         ] 57344 / 84199\r",
      " 77% [............................................................                  ] 65536 / 84199\r",
      " 87% [....................................................................          ] 73728 / 84199\r",
      " 97% [...........................................................................   ] 81920 / 84199\r",
      "100% [..............................................................................] 84199 / 84199"
     ]
    }
   ],
   "source": [
    "import wget\n",
    "import pandas as pd\n",
    "\n",
    "# Import the dataset\n",
    "data_url = 'https://raw.githubusercontent.com/nslatysheva/data_science_blogging/master/datasets/wine/winequality-red.csv'\n",
    "dataset = wget.download(data_url)\n",
    "dataset = pd.read_csv(dataset, sep=\";\")"
   ]
  },
  {
   "cell_type": "markdown",
   "metadata": {},
   "source": [
    "Let’s have a brief look at the data:"
   ]
  },
  {
   "cell_type": "code",
   "execution_count": 2,
   "metadata": {},
   "outputs": [
    {
     "data": {
      "text/html": [
       "<div>\n",
       "<style scoped>\n",
       "    .dataframe tbody tr th:only-of-type {\n",
       "        vertical-align: middle;\n",
       "    }\n",
       "\n",
       "    .dataframe tbody tr th {\n",
       "        vertical-align: top;\n",
       "    }\n",
       "\n",
       "    .dataframe thead th {\n",
       "        text-align: right;\n",
       "    }\n",
       "</style>\n",
       "<table border=\"1\" class=\"dataframe\">\n",
       "  <thead>\n",
       "    <tr style=\"text-align: right;\">\n",
       "      <th></th>\n",
       "      <th>fixed acidity</th>\n",
       "      <th>volatile acidity</th>\n",
       "      <th>citric acid</th>\n",
       "      <th>residual sugar</th>\n",
       "      <th>chlorides</th>\n",
       "    </tr>\n",
       "  </thead>\n",
       "  <tbody>\n",
       "    <tr>\n",
       "      <th>0</th>\n",
       "      <td>7.4</td>\n",
       "      <td>0.70</td>\n",
       "      <td>0.00</td>\n",
       "      <td>1.9</td>\n",
       "      <td>0.076</td>\n",
       "    </tr>\n",
       "    <tr>\n",
       "      <th>1</th>\n",
       "      <td>7.8</td>\n",
       "      <td>0.88</td>\n",
       "      <td>0.00</td>\n",
       "      <td>2.6</td>\n",
       "      <td>0.098</td>\n",
       "    </tr>\n",
       "    <tr>\n",
       "      <th>2</th>\n",
       "      <td>7.8</td>\n",
       "      <td>0.76</td>\n",
       "      <td>0.04</td>\n",
       "      <td>2.3</td>\n",
       "      <td>0.092</td>\n",
       "    </tr>\n",
       "    <tr>\n",
       "      <th>3</th>\n",
       "      <td>11.2</td>\n",
       "      <td>0.28</td>\n",
       "      <td>0.56</td>\n",
       "      <td>1.9</td>\n",
       "      <td>0.075</td>\n",
       "    </tr>\n",
       "    <tr>\n",
       "      <th>4</th>\n",
       "      <td>7.4</td>\n",
       "      <td>0.70</td>\n",
       "      <td>0.00</td>\n",
       "      <td>1.9</td>\n",
       "      <td>0.076</td>\n",
       "    </tr>\n",
       "  </tbody>\n",
       "</table>\n",
       "</div>"
      ],
      "text/plain": [
       "   fixed acidity  volatile acidity  citric acid  residual sugar  chlorides\n",
       "0            7.4              0.70         0.00             1.9      0.076\n",
       "1            7.8              0.88         0.00             2.6      0.098\n",
       "2            7.8              0.76         0.04             2.3      0.092\n",
       "3           11.2              0.28         0.56             1.9      0.075\n",
       "4            7.4              0.70         0.00             1.9      0.076"
      ]
     },
     "execution_count": 2,
     "metadata": {},
     "output_type": "execute_result"
    }
   ],
   "source": [
    "# Take a peak at the first few columns of the data\n",
    "first_5_columns = dataset.columns[0:5]\n",
    "dataset[first_5_columns].head()"
   ]
  },
  {
   "cell_type": "markdown",
   "metadata": {},
   "source": [
    "You can examine the dimensions of the dataset and the column names:"
   ]
  },
  {
   "cell_type": "code",
   "execution_count": 3,
   "metadata": {},
   "outputs": [
    {
     "name": "stdout",
     "output_type": "stream",
     "text": [
      "(1599, 12)\n",
      "['fixed acidity' 'volatile acidity' 'citric acid' 'residual sugar'\n",
      " 'chlorides' 'free sulfur dioxide' 'total sulfur dioxide' 'density' 'pH'\n",
      " 'sulphates' 'alcohol' 'quality']\n"
     ]
    }
   ],
   "source": [
    "# Eximine shape of dataset and the column names:\n",
    "print(dataset.shape)\n",
    "print(dataset.columns.values)\n"
   ]
  },
  {
   "cell_type": "markdown",
   "metadata": {},
   "source": [
    "So, it looks like you have a dozen features to play with, and just under 1600 data points. Get some summary statistics on the features using describe():"
   ]
  },
  {
   "cell_type": "code",
   "execution_count": 4,
   "metadata": {},
   "outputs": [
    {
     "data": {
      "text/html": [
       "<div>\n",
       "<style scoped>\n",
       "    .dataframe tbody tr th:only-of-type {\n",
       "        vertical-align: middle;\n",
       "    }\n",
       "\n",
       "    .dataframe tbody tr th {\n",
       "        vertical-align: top;\n",
       "    }\n",
       "\n",
       "    .dataframe thead th {\n",
       "        text-align: right;\n",
       "    }\n",
       "</style>\n",
       "<table border=\"1\" class=\"dataframe\">\n",
       "  <thead>\n",
       "    <tr style=\"text-align: right;\">\n",
       "      <th></th>\n",
       "      <th>fixed acidity</th>\n",
       "      <th>volatile acidity</th>\n",
       "      <th>citric acid</th>\n",
       "      <th>residual sugar</th>\n",
       "      <th>chlorides</th>\n",
       "    </tr>\n",
       "  </thead>\n",
       "  <tbody>\n",
       "    <tr>\n",
       "      <th>count</th>\n",
       "      <td>1599.000000</td>\n",
       "      <td>1599.000000</td>\n",
       "      <td>1599.000000</td>\n",
       "      <td>1599.000000</td>\n",
       "      <td>1599.000000</td>\n",
       "    </tr>\n",
       "    <tr>\n",
       "      <th>mean</th>\n",
       "      <td>8.319637</td>\n",
       "      <td>0.527821</td>\n",
       "      <td>0.270976</td>\n",
       "      <td>2.538806</td>\n",
       "      <td>0.087467</td>\n",
       "    </tr>\n",
       "    <tr>\n",
       "      <th>std</th>\n",
       "      <td>1.741096</td>\n",
       "      <td>0.179060</td>\n",
       "      <td>0.194801</td>\n",
       "      <td>1.409928</td>\n",
       "      <td>0.047065</td>\n",
       "    </tr>\n",
       "    <tr>\n",
       "      <th>min</th>\n",
       "      <td>4.600000</td>\n",
       "      <td>0.120000</td>\n",
       "      <td>0.000000</td>\n",
       "      <td>0.900000</td>\n",
       "      <td>0.012000</td>\n",
       "    </tr>\n",
       "    <tr>\n",
       "      <th>25%</th>\n",
       "      <td>7.100000</td>\n",
       "      <td>0.390000</td>\n",
       "      <td>0.090000</td>\n",
       "      <td>1.900000</td>\n",
       "      <td>0.070000</td>\n",
       "    </tr>\n",
       "    <tr>\n",
       "      <th>50%</th>\n",
       "      <td>7.900000</td>\n",
       "      <td>0.520000</td>\n",
       "      <td>0.260000</td>\n",
       "      <td>2.200000</td>\n",
       "      <td>0.079000</td>\n",
       "    </tr>\n",
       "    <tr>\n",
       "      <th>75%</th>\n",
       "      <td>9.200000</td>\n",
       "      <td>0.640000</td>\n",
       "      <td>0.420000</td>\n",
       "      <td>2.600000</td>\n",
       "      <td>0.090000</td>\n",
       "    </tr>\n",
       "    <tr>\n",
       "      <th>max</th>\n",
       "      <td>15.900000</td>\n",
       "      <td>1.580000</td>\n",
       "      <td>1.000000</td>\n",
       "      <td>15.500000</td>\n",
       "      <td>0.611000</td>\n",
       "    </tr>\n",
       "  </tbody>\n",
       "</table>\n",
       "</div>"
      ],
      "text/plain": [
       "       fixed acidity  volatile acidity  citric acid  residual sugar  \\\n",
       "count    1599.000000       1599.000000  1599.000000     1599.000000   \n",
       "mean        8.319637          0.527821     0.270976        2.538806   \n",
       "std         1.741096          0.179060     0.194801        1.409928   \n",
       "min         4.600000          0.120000     0.000000        0.900000   \n",
       "25%         7.100000          0.390000     0.090000        1.900000   \n",
       "50%         7.900000          0.520000     0.260000        2.200000   \n",
       "75%         9.200000          0.640000     0.420000        2.600000   \n",
       "max        15.900000          1.580000     1.000000       15.500000   \n",
       "\n",
       "         chlorides  \n",
       "count  1599.000000  \n",
       "mean      0.087467  \n",
       "std       0.047065  \n",
       "min       0.012000  \n",
       "25%       0.070000  \n",
       "50%       0.079000  \n",
       "75%       0.090000  \n",
       "max       0.611000  "
      ]
     },
     "execution_count": 4,
     "metadata": {},
     "output_type": "execute_result"
    }
   ],
   "source": [
    "# Summarise feature values\n",
    "dataset.describe()[first_5_columns]"
   ]
  },
  {
   "cell_type": "code",
   "execution_count": 5,
   "metadata": {},
   "outputs": [
    {
     "data": {
      "text/plain": [
       "5    681\n",
       "6    638\n",
       "7    199\n",
       "4     53\n",
       "8     18\n",
       "3     10\n",
       "Name: quality, dtype: int64"
      ]
     },
     "execution_count": 5,
     "metadata": {},
     "output_type": "execute_result"
    }
   ],
   "source": [
    "dataset['quality'].value_counts()"
   ]
  },
  {
   "cell_type": "markdown",
   "metadata": {},
   "source": [
    "The distribution of the outcome quality is a bit funcky - the values are mostly 5 and 6. This could get a bit irksome later on, so go ahead and recode the quality scores into something more convenient. One idea would be to label wines as being either high quility (e.g. if their score is 6 or higher) or low quility (if the score is 5 or lower). You could encode this with a 1 representing high quility and 0 representing low quility, like so:\n"
   ]
  },
  {
   "cell_type": "code",
   "execution_count": 6,
   "metadata": {},
   "outputs": [],
   "source": [
    "# Using a lambda function to bin quility scores\n",
    "dataset['quality_is_high'] = dataset.quality.apply(lambda x: 1 if x>=6 else 0)\n"
   ]
  },
  {
   "cell_type": "markdown",
   "metadata": {},
   "source": [
    "Now convert the pandas dataframe into a numpy array and isolate the outcome variable you’d like to predict (‘quality_is_high’). This conversion is needed to feed the data into the machine learning pipeline"
   ]
  },
  {
   "cell_type": "code",
   "execution_count": 7,
   "metadata": {},
   "outputs": [],
   "source": [
    "import numpy as np\n",
    "\n",
    "# Convert the dataframe to a numpy array and split the\n",
    "# data into an input matrix X and class label vector y\n",
    "npArray = np.array(dataset)\n",
    "X = npArray[:,:-2].astype(float)\n",
    "y = npArray[:,-1]"
   ]
  },
  {
   "cell_type": "markdown",
   "metadata": {},
   "source": [
    "Now that you have the dataset set up, the machine learning can begin. First, you have to split the dataset into a training and test set"
   ]
  },
  {
   "cell_type": "code",
   "execution_count": 8,
   "metadata": {},
   "outputs": [],
   "source": [
    "from sklearn.model_selection import train_test_split\n",
    "\n",
    "# Split into training and test sets\n",
    "XTrain, XTest, yTrain, yTest = train_test_split(X,y,random_state=1)"
   ]
  },
  {
   "cell_type": "markdown",
   "metadata": {},
   "source": [
    "## Setting up a Random Forest\n",
    "Briefly, random forests build a collection of classification trees, where each tree tries to classify data points into classes by recursively splitting the data on the features (and feature values) that seperate the classes best. Each tree is trained on bootstrapped data, and ach bifurcation point is only allowed to 'see' a subset of the availalble variables when deciding on the best split. So, these two elements of randomness are introduced when constructing each tree, which means that a variety of different trees are built. The random forest then ensembles these base learners together, i.e. it combines these trees into an aggregated model. In the end, when you want to classify a new data point, the individual trees each make their individual predictions and the random forest surveys these opinions and accepts the majority position. This approach often leads to improved accuracy, generalizability, and stability in the predictions."
   ]
  },
  {
   "cell_type": "markdown",
   "metadata": {},
   "source": [
    "## Predicting wine quality with a random forest\n",
    "Out of the box, scikit's random forest classifier performs reasonbly well on the wine dataset:"
   ]
  },
  {
   "cell_type": "code",
   "execution_count": 9,
   "metadata": {},
   "outputs": [
    {
     "name": "stdout",
     "output_type": "stream",
     "text": [
      "              precision    recall  f1-score   support\n",
      "\n",
      "         0.0       0.78      0.85      0.81       188\n",
      "         1.0       0.85      0.79      0.82       212\n",
      "\n",
      "    accuracy                           0.81       400\n",
      "   macro avg       0.82      0.82      0.81       400\n",
      "weighted avg       0.82      0.81      0.82       400\n",
      "\n",
      "Overall Accuracy: 0.815\n"
     ]
    }
   ],
   "source": [
    "from sklearn.ensemble import RandomForestClassifier\n",
    "from sklearn import metrics\n",
    "\n",
    "rf = RandomForestClassifier()\n",
    "rf.fit(XTrain,yTrain)\n",
    "\n",
    "rf_predictions = rf.predict(XTest)\n",
    "\n",
    "print(metrics.classification_report(yTest,rf_predictions))\n",
    "print(\"Overall Accuracy:\", round(metrics.accuracy_score(yTest,rf_predictions),4))"
   ]
  },
  {
   "cell_type": "markdown",
   "metadata": {},
   "source": [
    "The model has an overall accuracy around the 0.81 mark (there is some variability in this value – try rerunning the code block several times, or setting different seeds using random_state). This means that 81% of the time, your model is able to predict the right class when given the test data. In other words, it can distinguish pretty well between a good and a bad wine based on their chemical properties.\n",
    "\n",
    "Next up, you are going to learn how to pick the best values for the hyperparameters of the random forest algorithm in order to get better models with (hopefully!) even higher accuracy than this baseline."
   ]
  },
  {
   "cell_type": "markdown",
   "metadata": {},
   "source": [
    "## Better modelling through hyperparameter optimization\n",
    "We’ve glossed over what a hyperparameter actually is. Let’s explore the topic now. Often, when setting out to train a machine learning algorithm on your dataset of interest, you must first specify a number of arguments or hyperparameters (HPs). An HP is just a variable than influences the performance of your model, but isn’t directly tuned during model training.\n",
    "\n",
    "For example, when using the random forest algorithm to do classification, you have to set the value of the hyperparameter n_estimators ahead of time, before training commences. n_estimators controls the number of individual trees in the random forest ensemble. The more the better (with diminishing returns), but more trees come at the expense of longer training time.\n",
    "\n",
    "As mentioned above, scikit-learn generally provides reasonable hyperparameter default values, such that it is possible to quickly build a random forest classifier by simply typing RandomForestClassifier() and then fitting it to your data. You can get the documentation on what hyperparameter values the classifier has automatically assumed, but you can also examine model details directly using get_params:"
   ]
  },
  {
   "cell_type": "code",
   "execution_count": 10,
   "metadata": {},
   "outputs": [
    {
     "name": "stdout",
     "output_type": "stream",
     "text": [
      "<bound method BaseEstimator.get_params of RandomForestClassifier(bootstrap=True, ccp_alpha=0.0, class_weight=None,\n",
      "                       criterion='gini', max_depth=None, max_features='auto',\n",
      "                       max_leaf_nodes=None, max_samples=None,\n",
      "                       min_impurity_decrease=0.0, min_impurity_split=None,\n",
      "                       min_samples_leaf=1, min_samples_split=2,\n",
      "                       min_weight_fraction_leaf=0.0, n_estimators=100,\n",
      "                       n_jobs=None, oob_score=False, random_state=None,\n",
      "                       verbose=0, warm_start=False)>\n"
     ]
    }
   ],
   "source": [
    "# Create a default random forest classifier and print its parameter\n",
    "rf_default = RandomForestClassifier()\n",
    "print(rf_default.get_params)"
   ]
  },
  {
   "cell_type": "markdown",
   "metadata": {},
   "source": [
    "You can see that n_estimators takes on a default value of 100. Other hyperparameters include max_features, which controls the size of the random selection of features the algorithm is allowed to consider when splitting a node. The default is max_features='auto', where the auto refers to sqrt of the number of all features in classification problems. So for instance, if you have 16 features in total, then trees are restricted to considering only 4 features at each bifurcation point (instead of searching all features for the best split). Other important HPs include the max_depth, which restricts the depth of the trees you grow, and criterion, which dictates how trees calculate the class purity resulting from splits.\n",
    "\n",
    "As you saw above, the default settings for random forests do a good job. But it’s a good idea to try to improve your learning algorithm’s performance. But how do you know what values to set the hyperparameters to in order to get the best performance from your learning algorithms?\n",
    "\n",
    "You optimize hyperparameters in exactly the way that you might expect – you try different values and see what works best. However, some care is needed when deciding how exactly to measure if certain values work well, and which strategy to use to systematically explore hyperparameter space."
   ]
  },
  {
   "cell_type": "markdown",
   "metadata": {},
   "source": [
    "## Tuning your random forest\n",
    "In order to build the best possible model that does a good job at describing the underlying trends in a dataset, you need to pick the right HP values. The most basic strategy to do this would be just to test different possible values for the HPs and see how the model performs.\n",
    "\n",
    "Let’s try out some random HP values:"
   ]
  },
  {
   "cell_type": "code",
   "execution_count": 11,
   "metadata": {},
   "outputs": [],
   "source": [
    "# manually specify some HP values\n",
    "hp_combinations= [\n",
    "    {\"n_estimators\": 100, \"max_features\": None},\n",
    "    {\"n_estimators\": 140, \"max_features\": 'log2',},\n",
    "    {\"n_estimators\": 180, \"max_features\": 'sqrt'}\n",
    "]"
   ]
  },
  {
   "cell_type": "markdown",
   "metadata": {},
   "source": [
    "You can manually write a small loop to test out how well the different combinations of these potential HP values fare (later, you’ll see better ways to do this):\n"
   ]
  },
  {
   "cell_type": "code",
   "execution_count": 12,
   "metadata": {},
   "outputs": [
    {
     "name": "stdout",
     "output_type": "stream",
     "text": [
      "When n_estimators is 100 and max_features is None, test set accuracy is 0.82\n",
      "When n_estimators is 140 and max_features is log2, test set accuracy is 0.82\n",
      "When n_estimators is 180 and max_features is sqrt, test set accuracy is 0.82\n"
     ]
    }
   ],
   "source": [
    "# test out different HP combinations\n",
    "for hp_combn in hp_combinations:\n",
    "    \n",
    "    # Train and output accuracies\n",
    "    rf = RandomForestClassifier(\n",
    "        n_estimators=hp_combn[\"n_estimators\"],\n",
    "        max_features = hp_combn[\"max_features\"]\n",
    "    )\n",
    "    \n",
    "    rf.fit(XTrain,yTrain)\n",
    "    rf_predictions = rf.predict(XTest)\n",
    "    print(\"When n_estimators is {} and max_features is {}, test set accuracy is {}\".\n",
    "          format(hp_combn[\"n_estimators\"],hp_combn[\"max_features\"],round(metrics.accuracy_score(yTest,rf_predictions),2)))"
   ]
  },
  {
   "cell_type": "markdown",
   "metadata": {},
   "source": [
    "Looks like the last combinations of HPs might be doing better. However, manually searching for the best HPs in this way is not efficient, it’s a bit random, and is liable to miss good combinations. There is, however, a solution – grid search."
   ]
  },
  {
   "cell_type": "markdown",
   "metadata": {},
   "source": [
    "## Grid search\n",
    "Traditionally and perhaps most intuitively, scanning for good HPs values can be done with grid search (also called parameter sweep). This strategy exhaustively searches through some manually prespecified HP values and reports the best option. It is common to try to optimize multiple HPs simultaneously – grid search tries each combination of HPs in turn and reports the best one, hence the name ‘grid’. This is a more convenient and complete way of searching through hyperparameter space than manually specifying combinations."
   ]
  },
  {
   "cell_type": "code",
   "execution_count": 13,
   "metadata": {},
   "outputs": [
    {
     "name": "stdout",
     "output_type": "stream",
     "text": [
      "[(100, None), (100, 'log2'), (100, 'sqrt'), (140, None), (140, 'log2'), (140, 'sqrt'), (180, None), (180, 'log2'), (180, 'sqrt')]\n",
      "The number of HP combinations is : 9\n"
     ]
    }
   ],
   "source": [
    "import itertools\n",
    "\n",
    "n_estimators = [100, 140, 180]\n",
    "max_features = [None, 'log2', 'sqrt']\n",
    "\n",
    "hp_combinations = list(itertools.product(n_estimators,max_features))\n",
    "print(hp_combinations)\n",
    "print(\"The number of HP combinations is : {}\".format(len(hp_combinations)))"
   ]
  },
  {
   "cell_type": "markdown",
   "metadata": {},
   "source": [
    "However there is a massive pitfall here! Scanning through all possible combinations of HPs to build models and evaluating them on the test set will output the combination of parameters that does best, but these values might not generalise well. This approach is less misguided than trying to optimize models by evaluating them on the training set, but is still not ideal. The problem is that during repeated evaluation on the test dataset, knowledge of the test set can leak into the model building phase. You are at risk of inadvertently learning something about the test set, and hence are susceptible to overfitting. How does one get around these issues?"
   ]
  },
  {
   "cell_type": "markdown",
   "metadata": {},
   "source": [
    "## Grid search with k-fold cross validation for hyperparameter tuning\n",
    "Enter k-fold cross-validation, which is a handy technique for measuring a model’s performance using only the training set. k-fold CV is a general method (see an explanation here), and is not specific to hyperparameter optimization, but is very useful for that purpose. You simply try out different HP values, get several different estimates of model performance for each HP value (or combination of HP values), and choose the model with the lowest CV error."
   ]
  },
  {
   "cell_type": "markdown",
   "metadata": {},
   "source": [
    "In the context of HP optimization, you perform k-fold cross validation together with grid search to get a more robust estimate of the model performance associated with specific HP values. The combination of grid search and k-fold cross validation is very popular for finding the models with good performance and generalisability. So, in HP optimisation, you are actually trying to do two things:\n",
    "* Find the combination of HPs that improves model performance (e.g. accuracy)\n",
    "* Make sure that this choice of HPs will generalize well to new data\n",
    "\n",
    "The CV is there to address the second concern. scikit-learn makes grid search with k-fold CV very easy and slick to do, and even supports parallel distributing of the search (via the n_jobs argument). The set-up looks like this:"
   ]
  },
  {
   "cell_type": "code",
   "execution_count": 14,
   "metadata": {},
   "outputs": [],
   "source": [
    "from sklearn.model_selection import GridSearchCV\n",
    "\n",
    "# Search for good hyperparameter values\n",
    "# Specify values to grid search over\n",
    "\n",
    "n_estimators = list(np.arange(100,600,20))\n",
    "max_features = [None,'sqrt','log2']\n",
    "\n",
    "hyperparameters = {\n",
    "    'n_estimators': n_estimators,\n",
    "    'max_features': max_features\n",
    "}\n",
    "\n",
    "# Grid search using cross-validation\n",
    "gridCV = GridSearchCV(RandomForestClassifier(),param_grid = hyperparameters,cv=5,n_jobs=-1)"
   ]
  },
  {
   "cell_type": "code",
   "execution_count": 15,
   "metadata": {},
   "outputs": [
    {
     "data": {
      "text/plain": [
       "GridSearchCV(cv=5, error_score=nan,\n",
       "             estimator=RandomForestClassifier(bootstrap=True, ccp_alpha=0.0,\n",
       "                                              class_weight=None,\n",
       "                                              criterion='gini', max_depth=None,\n",
       "                                              max_features='auto',\n",
       "                                              max_leaf_nodes=None,\n",
       "                                              max_samples=None,\n",
       "                                              min_impurity_decrease=0.0,\n",
       "                                              min_impurity_split=None,\n",
       "                                              min_samples_leaf=1,\n",
       "                                              min_samples_split=2,\n",
       "                                              min_weight_fraction_leaf=0.0,\n",
       "                                              n_estimators=100, n_jobs=None,\n",
       "                                              oob_score=False,\n",
       "                                              random_state=None, verbose=0,\n",
       "                                              warm_start=False),\n",
       "             iid='deprecated', n_jobs=-1,\n",
       "             param_grid={'max_features': [None, 'sqrt', 'log2'],\n",
       "                         'n_estimators': [100, 120, 140, 160, 180, 200, 220,\n",
       "                                          240, 260, 280, 300, 320, 340, 360,\n",
       "                                          380, 400, 420, 440, 460, 480, 500,\n",
       "                                          520, 540, 560, 580]},\n",
       "             pre_dispatch='2*n_jobs', refit=True, return_train_score=False,\n",
       "             scoring=None, verbose=0)"
      ]
     },
     "execution_count": 15,
     "metadata": {},
     "output_type": "execute_result"
    }
   ],
   "source": [
    "# Perform grid search with 5 fold\n",
    "gridCV.fit(XTrain,yTrain)"
   ]
  },
  {
   "cell_type": "code",
   "execution_count": 16,
   "metadata": {},
   "outputs": [
    {
     "name": "stdout",
     "output_type": "stream",
     "text": [
      "The best performing n_estimators value is: 280\n",
      "The best performing max_features value is: log2\n"
     ]
    }
   ],
   "source": [
    "# Identify grid search hyperparameters values\n",
    "best_n_estim = gridCV.best_params_['n_estimators']\n",
    "best_max_features = gridCV.best_params_['max_features']\n",
    "\n",
    "print(\"The best performing n_estimators value is: {}\".format(best_n_estim))\n",
    "print(\"The best performing max_features value is: {}\".format(best_max_features))\n"
   ]
  },
  {
   "cell_type": "markdown",
   "metadata": {},
   "source": [
    "You can visually represent the results from this grid search (stored in gridCV.grid_scores_) with a heatmap:"
   ]
  },
  {
   "cell_type": "code",
   "execution_count": 17,
   "metadata": {},
   "outputs": [
    {
     "data": {
      "text/plain": [
       "{'mean_fit_time': array([0.56900377, 0.68570466, 0.84397712, 0.99118853, 1.10858188,\n",
       "        1.19804635, 1.3474524 , 1.50234489, 1.56487975, 1.742313  ,\n",
       "        1.97470341, 1.98776789, 2.11473546, 2.24030704, 2.38033705,\n",
       "        2.84305058, 3.00732861, 3.05886378, 2.95881758, 3.17395473,\n",
       "        3.15568352, 3.2469481 , 3.50478725, 3.54188361, 3.66156602,\n",
       "        0.33960667, 0.40543327, 0.47305517, 0.55533905, 0.63762522,\n",
       "        0.70225687, 0.78752866, 0.84738388, 0.89316096, 1.01373687,\n",
       "        1.06510253, 1.17132907, 1.22279191, 1.29639878, 1.32970886,\n",
       "        1.41578627, 1.53347316, 1.56549244, 1.61665912, 1.67859092,\n",
       "        1.77244554, 1.86191616, 1.90750318, 1.98112793, 2.05650907,\n",
       "        0.35276942, 0.45341053, 0.52063336, 0.56162214, 0.66465144,\n",
       "        0.71023092, 0.78623734, 0.85615568, 0.95808401, 0.99269609,\n",
       "        1.10809522, 1.15288625, 1.21451106, 1.30257792, 1.37568879,\n",
       "        1.45398293, 1.50126429, 1.59512043, 1.66044502, 1.76139455,\n",
       "        1.78401918, 1.85613241, 1.96474619, 2.04592814, 1.77633872]),\n",
       " 'std_fit_time': array([0.01121283, 0.01829791, 0.02854112, 0.02508646, 0.0360595 ,\n",
       "        0.02145986, 0.03704943, 0.05715628, 0.04052136, 0.04747037,\n",
       "        0.10875455, 0.06974595, 0.07114881, 0.08589526, 0.09128715,\n",
       "        0.2291666 , 0.2668322 , 0.16625746, 0.19727524, 0.10828842,\n",
       "        0.10192672, 0.13523966, 0.16893294, 0.152708  , 0.10853834,\n",
       "        0.01526347, 0.00996269, 0.01482629, 0.01624757, 0.02849307,\n",
       "        0.02946643, 0.03224848, 0.03029933, 0.02225493, 0.03105529,\n",
       "        0.04056719, 0.05918832, 0.0638741 , 0.04007901, 0.04912769,\n",
       "        0.05552901, 0.06126391, 0.04930909, 0.05374369, 0.04168124,\n",
       "        0.06349982, 0.08956264, 0.08222077, 0.05560475, 0.08532571,\n",
       "        0.01240176, 0.01963571, 0.04440969, 0.01318788, 0.04135072,\n",
       "        0.03682436, 0.02312866, 0.04734541, 0.05344181, 0.0381279 ,\n",
       "        0.05988687, 0.04640342, 0.04358238, 0.06379914, 0.07120324,\n",
       "        0.07377408, 0.06404284, 0.04892978, 0.1059363 , 0.08994214,\n",
       "        0.08467778, 0.07377136, 0.07974545, 0.07557252, 0.1735756 ]),\n",
       " 'mean_score_time': array([0.01506238, 0.01834955, 0.02363663, 0.02463584, 0.02623162,\n",
       "        0.0328135 , 0.03421011, 0.0374042 , 0.03910065, 0.0455832 ,\n",
       "        0.05056987, 0.0473753 , 0.05326076, 0.05415978, 0.05904188,\n",
       "        0.07769442, 0.08407717, 0.0703166 , 0.07271166, 0.08018918,\n",
       "        0.07679429, 0.08487506, 0.08946362, 0.08916459, 0.09584923,\n",
       "        0.01535897, 0.0187499 , 0.02224255, 0.02563462, 0.03062015,\n",
       "        0.03311048, 0.0373045 , 0.03869672, 0.04328475, 0.04886956,\n",
       "        0.04997163, 0.05206294, 0.05415468, 0.05844755, 0.06553102,\n",
       "        0.06403332, 0.06772285, 0.07261229, 0.07340822, 0.07709594,\n",
       "        0.0839788 , 0.08357654, 0.08647609, 0.0931572 , 0.10382829,\n",
       "        0.01635981, 0.02503524, 0.02344098, 0.02593803, 0.03042021,\n",
       "        0.03401122, 0.03769908, 0.03999562, 0.04318657, 0.04398317,\n",
       "        0.0537601 , 0.05365806, 0.05635104, 0.05874658, 0.06203856,\n",
       "        0.06532741, 0.0718122 , 0.07500405, 0.0784997 , 0.08278022,\n",
       "        0.08327909, 0.09065957, 0.0856729 , 0.09405818, 0.05557337]),\n",
       " 'std_score_time': array([0.00101582, 0.00135468, 0.003699  , 0.00132203, 0.00097726,\n",
       "        0.00309551, 0.00188413, 0.0025597 , 0.00174487, 0.00313161,\n",
       "        0.00337838, 0.00118329, 0.00341569, 0.0010259 , 0.00270539,\n",
       "        0.02252309, 0.02664086, 0.00384875, 0.00273656, 0.00507843,\n",
       "        0.00427774, 0.00631462, 0.01486008, 0.00633641, 0.00622534,\n",
       "        0.00079796, 0.00074628, 0.00039943, 0.00152952, 0.00171555,\n",
       "        0.00116446, 0.00096765, 0.00171573, 0.00106041, 0.00595064,\n",
       "        0.00400667, 0.00203518, 0.00087366, 0.0018267 , 0.00810908,\n",
       "        0.00120728, 0.00257094, 0.00547021, 0.00254844, 0.00298551,\n",
       "        0.00790892, 0.00429692, 0.00432791, 0.00468908, 0.02222002,\n",
       "        0.00073342, 0.00579998, 0.00077135, 0.00063373, 0.00425806,\n",
       "        0.00228659, 0.00263116, 0.00155566, 0.00251616, 0.00079688,\n",
       "        0.00923801, 0.00443203, 0.00383568, 0.00306334, 0.00228983,\n",
       "        0.00189537, 0.00826421, 0.00743794, 0.00598944, 0.00998824,\n",
       "        0.00682224, 0.0113185 , 0.00161872, 0.00783732, 0.0091588 ]),\n",
       " 'param_max_features': masked_array(data=[None, None, None, None, None, None, None, None, None,\n",
       "                    None, None, None, None, None, None, None, None, None,\n",
       "                    None, None, None, None, None, None, None, 'sqrt',\n",
       "                    'sqrt', 'sqrt', 'sqrt', 'sqrt', 'sqrt', 'sqrt', 'sqrt',\n",
       "                    'sqrt', 'sqrt', 'sqrt', 'sqrt', 'sqrt', 'sqrt', 'sqrt',\n",
       "                    'sqrt', 'sqrt', 'sqrt', 'sqrt', 'sqrt', 'sqrt', 'sqrt',\n",
       "                    'sqrt', 'sqrt', 'sqrt', 'log2', 'log2', 'log2', 'log2',\n",
       "                    'log2', 'log2', 'log2', 'log2', 'log2', 'log2', 'log2',\n",
       "                    'log2', 'log2', 'log2', 'log2', 'log2', 'log2', 'log2',\n",
       "                    'log2', 'log2', 'log2', 'log2', 'log2', 'log2', 'log2'],\n",
       "              mask=[False, False, False, False, False, False, False, False,\n",
       "                    False, False, False, False, False, False, False, False,\n",
       "                    False, False, False, False, False, False, False, False,\n",
       "                    False, False, False, False, False, False, False, False,\n",
       "                    False, False, False, False, False, False, False, False,\n",
       "                    False, False, False, False, False, False, False, False,\n",
       "                    False, False, False, False, False, False, False, False,\n",
       "                    False, False, False, False, False, False, False, False,\n",
       "                    False, False, False, False, False, False, False, False,\n",
       "                    False, False, False],\n",
       "        fill_value='?',\n",
       "             dtype=object),\n",
       " 'param_n_estimators': masked_array(data=[100, 120, 140, 160, 180, 200, 220, 240, 260, 280, 300,\n",
       "                    320, 340, 360, 380, 400, 420, 440, 460, 480, 500, 520,\n",
       "                    540, 560, 580, 100, 120, 140, 160, 180, 200, 220, 240,\n",
       "                    260, 280, 300, 320, 340, 360, 380, 400, 420, 440, 460,\n",
       "                    480, 500, 520, 540, 560, 580, 100, 120, 140, 160, 180,\n",
       "                    200, 220, 240, 260, 280, 300, 320, 340, 360, 380, 400,\n",
       "                    420, 440, 460, 480, 500, 520, 540, 560, 580],\n",
       "              mask=[False, False, False, False, False, False, False, False,\n",
       "                    False, False, False, False, False, False, False, False,\n",
       "                    False, False, False, False, False, False, False, False,\n",
       "                    False, False, False, False, False, False, False, False,\n",
       "                    False, False, False, False, False, False, False, False,\n",
       "                    False, False, False, False, False, False, False, False,\n",
       "                    False, False, False, False, False, False, False, False,\n",
       "                    False, False, False, False, False, False, False, False,\n",
       "                    False, False, False, False, False, False, False, False,\n",
       "                    False, False, False],\n",
       "        fill_value='?',\n",
       "             dtype=object),\n",
       " 'params': [{'max_features': None, 'n_estimators': 100},\n",
       "  {'max_features': None, 'n_estimators': 120},\n",
       "  {'max_features': None, 'n_estimators': 140},\n",
       "  {'max_features': None, 'n_estimators': 160},\n",
       "  {'max_features': None, 'n_estimators': 180},\n",
       "  {'max_features': None, 'n_estimators': 200},\n",
       "  {'max_features': None, 'n_estimators': 220},\n",
       "  {'max_features': None, 'n_estimators': 240},\n",
       "  {'max_features': None, 'n_estimators': 260},\n",
       "  {'max_features': None, 'n_estimators': 280},\n",
       "  {'max_features': None, 'n_estimators': 300},\n",
       "  {'max_features': None, 'n_estimators': 320},\n",
       "  {'max_features': None, 'n_estimators': 340},\n",
       "  {'max_features': None, 'n_estimators': 360},\n",
       "  {'max_features': None, 'n_estimators': 380},\n",
       "  {'max_features': None, 'n_estimators': 400},\n",
       "  {'max_features': None, 'n_estimators': 420},\n",
       "  {'max_features': None, 'n_estimators': 440},\n",
       "  {'max_features': None, 'n_estimators': 460},\n",
       "  {'max_features': None, 'n_estimators': 480},\n",
       "  {'max_features': None, 'n_estimators': 500},\n",
       "  {'max_features': None, 'n_estimators': 520},\n",
       "  {'max_features': None, 'n_estimators': 540},\n",
       "  {'max_features': None, 'n_estimators': 560},\n",
       "  {'max_features': None, 'n_estimators': 580},\n",
       "  {'max_features': 'sqrt', 'n_estimators': 100},\n",
       "  {'max_features': 'sqrt', 'n_estimators': 120},\n",
       "  {'max_features': 'sqrt', 'n_estimators': 140},\n",
       "  {'max_features': 'sqrt', 'n_estimators': 160},\n",
       "  {'max_features': 'sqrt', 'n_estimators': 180},\n",
       "  {'max_features': 'sqrt', 'n_estimators': 200},\n",
       "  {'max_features': 'sqrt', 'n_estimators': 220},\n",
       "  {'max_features': 'sqrt', 'n_estimators': 240},\n",
       "  {'max_features': 'sqrt', 'n_estimators': 260},\n",
       "  {'max_features': 'sqrt', 'n_estimators': 280},\n",
       "  {'max_features': 'sqrt', 'n_estimators': 300},\n",
       "  {'max_features': 'sqrt', 'n_estimators': 320},\n",
       "  {'max_features': 'sqrt', 'n_estimators': 340},\n",
       "  {'max_features': 'sqrt', 'n_estimators': 360},\n",
       "  {'max_features': 'sqrt', 'n_estimators': 380},\n",
       "  {'max_features': 'sqrt', 'n_estimators': 400},\n",
       "  {'max_features': 'sqrt', 'n_estimators': 420},\n",
       "  {'max_features': 'sqrt', 'n_estimators': 440},\n",
       "  {'max_features': 'sqrt', 'n_estimators': 460},\n",
       "  {'max_features': 'sqrt', 'n_estimators': 480},\n",
       "  {'max_features': 'sqrt', 'n_estimators': 500},\n",
       "  {'max_features': 'sqrt', 'n_estimators': 520},\n",
       "  {'max_features': 'sqrt', 'n_estimators': 540},\n",
       "  {'max_features': 'sqrt', 'n_estimators': 560},\n",
       "  {'max_features': 'sqrt', 'n_estimators': 580},\n",
       "  {'max_features': 'log2', 'n_estimators': 100},\n",
       "  {'max_features': 'log2', 'n_estimators': 120},\n",
       "  {'max_features': 'log2', 'n_estimators': 140},\n",
       "  {'max_features': 'log2', 'n_estimators': 160},\n",
       "  {'max_features': 'log2', 'n_estimators': 180},\n",
       "  {'max_features': 'log2', 'n_estimators': 200},\n",
       "  {'max_features': 'log2', 'n_estimators': 220},\n",
       "  {'max_features': 'log2', 'n_estimators': 240},\n",
       "  {'max_features': 'log2', 'n_estimators': 260},\n",
       "  {'max_features': 'log2', 'n_estimators': 280},\n",
       "  {'max_features': 'log2', 'n_estimators': 300},\n",
       "  {'max_features': 'log2', 'n_estimators': 320},\n",
       "  {'max_features': 'log2', 'n_estimators': 340},\n",
       "  {'max_features': 'log2', 'n_estimators': 360},\n",
       "  {'max_features': 'log2', 'n_estimators': 380},\n",
       "  {'max_features': 'log2', 'n_estimators': 400},\n",
       "  {'max_features': 'log2', 'n_estimators': 420},\n",
       "  {'max_features': 'log2', 'n_estimators': 440},\n",
       "  {'max_features': 'log2', 'n_estimators': 460},\n",
       "  {'max_features': 'log2', 'n_estimators': 480},\n",
       "  {'max_features': 'log2', 'n_estimators': 500},\n",
       "  {'max_features': 'log2', 'n_estimators': 520},\n",
       "  {'max_features': 'log2', 'n_estimators': 540},\n",
       "  {'max_features': 'log2', 'n_estimators': 560},\n",
       "  {'max_features': 'log2', 'n_estimators': 580}],\n",
       " 'split0_test_score': array([0.78333333, 0.77916667, 0.80416667, 0.77916667, 0.79166667,\n",
       "        0.79583333, 0.79166667, 0.79166667, 0.7875    , 0.7875    ,\n",
       "        0.8       , 0.79583333, 0.78333333, 0.7875    , 0.78333333,\n",
       "        0.78333333, 0.8       , 0.7875    , 0.78333333, 0.78333333,\n",
       "        0.79166667, 0.79583333, 0.7875    , 0.8       , 0.79166667,\n",
       "        0.8       , 0.8       , 0.7875    , 0.8       , 0.79166667,\n",
       "        0.7875    , 0.8       , 0.80416667, 0.80416667, 0.79166667,\n",
       "        0.80416667, 0.78333333, 0.79166667, 0.7875    , 0.78333333,\n",
       "        0.79166667, 0.7875    , 0.79583333, 0.7875    , 0.7875    ,\n",
       "        0.7875    , 0.7875    , 0.7875    , 0.79166667, 0.79583333,\n",
       "        0.79166667, 0.78333333, 0.77916667, 0.8       , 0.80833333,\n",
       "        0.7875    , 0.79583333, 0.79583333, 0.7875    , 0.80833333,\n",
       "        0.7875    , 0.7875    , 0.79166667, 0.80833333, 0.79583333,\n",
       "        0.7875    , 0.79583333, 0.79166667, 0.7875    , 0.79583333,\n",
       "        0.79583333, 0.78333333, 0.8       , 0.7875    , 0.8       ]),\n",
       " 'split1_test_score': array([0.73333333, 0.74166667, 0.75      , 0.74166667, 0.74583333,\n",
       "        0.74583333, 0.725     , 0.73333333, 0.725     , 0.74583333,\n",
       "        0.73333333, 0.7375    , 0.73333333, 0.7375    , 0.75      ,\n",
       "        0.74166667, 0.74166667, 0.75416667, 0.74166667, 0.72916667,\n",
       "        0.72916667, 0.7375    , 0.73333333, 0.74166667, 0.7375    ,\n",
       "        0.74583333, 0.73333333, 0.7375    , 0.73333333, 0.73333333,\n",
       "        0.74583333, 0.74166667, 0.73333333, 0.72916667, 0.7375    ,\n",
       "        0.7375    , 0.75416667, 0.72916667, 0.73333333, 0.73333333,\n",
       "        0.7375    , 0.72083333, 0.74583333, 0.7375    , 0.73333333,\n",
       "        0.72916667, 0.74166667, 0.73333333, 0.74166667, 0.73333333,\n",
       "        0.72916667, 0.74583333, 0.7375    , 0.73333333, 0.7375    ,\n",
       "        0.7375    , 0.74166667, 0.74166667, 0.74166667, 0.7375    ,\n",
       "        0.7375    , 0.74583333, 0.7375    , 0.73333333, 0.74166667,\n",
       "        0.74583333, 0.7375    , 0.73333333, 0.7375    , 0.73333333,\n",
       "        0.7375    , 0.7375    , 0.7375    , 0.73333333, 0.74166667]),\n",
       " 'split2_test_score': array([0.82083333, 0.82083333, 0.83333333, 0.8375    , 0.80833333,\n",
       "        0.81666667, 0.80416667, 0.8125    , 0.81666667, 0.80416667,\n",
       "        0.82083333, 0.82916667, 0.81666667, 0.8125    , 0.82083333,\n",
       "        0.80416667, 0.8125    , 0.82916667, 0.83333333, 0.8125    ,\n",
       "        0.82916667, 0.82916667, 0.82083333, 0.80833333, 0.81666667,\n",
       "        0.83333333, 0.8375    , 0.84583333, 0.83333333, 0.83333333,\n",
       "        0.82916667, 0.8375    , 0.84583333, 0.83333333, 0.85      ,\n",
       "        0.8375    , 0.82916667, 0.85416667, 0.84583333, 0.84583333,\n",
       "        0.8375    , 0.84583333, 0.85      , 0.83333333, 0.84166667,\n",
       "        0.84166667, 0.84166667, 0.83333333, 0.84166667, 0.83333333,\n",
       "        0.83333333, 0.825     , 0.84166667, 0.82916667, 0.83333333,\n",
       "        0.83333333, 0.84583333, 0.84166667, 0.83333333, 0.84583333,\n",
       "        0.84166667, 0.85      , 0.85416667, 0.84583333, 0.8375    ,\n",
       "        0.82916667, 0.84166667, 0.83333333, 0.82916667, 0.84166667,\n",
       "        0.83333333, 0.83333333, 0.83333333, 0.8375    , 0.83333333]),\n",
       " 'split3_test_score': array([0.79583333, 0.79166667, 0.77916667, 0.79583333, 0.7875    ,\n",
       "        0.7875    , 0.79166667, 0.7875    , 0.7875    , 0.79583333,\n",
       "        0.79166667, 0.79166667, 0.78333333, 0.7875    , 0.80833333,\n",
       "        0.79166667, 0.78333333, 0.79166667, 0.80416667, 0.79166667,\n",
       "        0.7875    , 0.79583333, 0.79583333, 0.79583333, 0.79583333,\n",
       "        0.8125    , 0.80833333, 0.81666667, 0.8       , 0.80416667,\n",
       "        0.8125    , 0.8125    , 0.80416667, 0.8125    , 0.82083333,\n",
       "        0.80416667, 0.8       , 0.82083333, 0.8125    , 0.81666667,\n",
       "        0.8125    , 0.8       , 0.80416667, 0.80833333, 0.81666667,\n",
       "        0.82083333, 0.81666667, 0.81666667, 0.8125    , 0.80833333,\n",
       "        0.79166667, 0.79166667, 0.79583333, 0.81666667, 0.8125    ,\n",
       "        0.80833333, 0.82083333, 0.8125    , 0.82083333, 0.82083333,\n",
       "        0.80416667, 0.80833333, 0.8125    , 0.8125    , 0.82083333,\n",
       "        0.80833333, 0.80416667, 0.80416667, 0.8125    , 0.81666667,\n",
       "        0.80833333, 0.8125    , 0.8125    , 0.8125    , 0.80416667]),\n",
       " 'split4_test_score': array([0.79079498, 0.79079498, 0.77824268, 0.78661088, 0.79916318,\n",
       "        0.79916318, 0.79497908, 0.78661088, 0.79497908, 0.78242678,\n",
       "        0.79497908, 0.79916318, 0.79497908, 0.79497908, 0.79079498,\n",
       "        0.79916318, 0.79079498, 0.79497908, 0.79497908, 0.78661088,\n",
       "        0.80334728, 0.79497908, 0.79497908, 0.79079498, 0.79079498,\n",
       "        0.77824268, 0.76987448, 0.75732218, 0.77824268, 0.77405858,\n",
       "        0.77824268, 0.76987448, 0.77824268, 0.77405858, 0.77824268,\n",
       "        0.79079498, 0.76569038, 0.77824268, 0.79079498, 0.77824268,\n",
       "        0.77824268, 0.78242678, 0.77824268, 0.79079498, 0.79079498,\n",
       "        0.77824268, 0.76987448, 0.77405858, 0.79079498, 0.78661088,\n",
       "        0.76569038, 0.78661088, 0.79497908, 0.76987448, 0.77405858,\n",
       "        0.80334728, 0.78242678, 0.76987448, 0.78661088, 0.78242678,\n",
       "        0.79079498, 0.79916318, 0.77405858, 0.77405858, 0.78242678,\n",
       "        0.78242678, 0.77405858, 0.78661088, 0.77824268, 0.77405858,\n",
       "        0.77405858, 0.77405858, 0.78242678, 0.78661088, 0.79497908]),\n",
       " 'mean_test_score': array([0.78482566, 0.78482566, 0.78898187, 0.78815551, 0.7864993 ,\n",
       "        0.7889993 , 0.78149582, 0.78232218, 0.78232915, 0.78315202,\n",
       "        0.78816248, 0.79066597, 0.78232915, 0.78399582, 0.790659  ,\n",
       "        0.7839993 , 0.785659  , 0.79149582, 0.79149582, 0.78065551,\n",
       "        0.78816946, 0.79066248, 0.78649582, 0.78732566, 0.78649233,\n",
       "        0.79398187, 0.78980823, 0.78896444, 0.78898187, 0.78731172,\n",
       "        0.79064854, 0.79230823, 0.79314854, 0.79064505, 0.79564854,\n",
       "        0.79482566, 0.78647141, 0.7948152 , 0.79399233, 0.79148187,\n",
       "        0.79148187, 0.78731869, 0.7948152 , 0.79149233, 0.79399233,\n",
       "        0.79148187, 0.7914749 , 0.78897838, 0.795659  , 0.79148884,\n",
       "        0.78230474, 0.78648884, 0.78982915, 0.78980823, 0.79314505,\n",
       "        0.79400279, 0.79731869, 0.79230823, 0.79398884, 0.79898536,\n",
       "        0.79232566, 0.79816597, 0.79397838, 0.79481172, 0.79565202,\n",
       "        0.79065202, 0.79064505, 0.78982218, 0.78898187, 0.79231172,\n",
       "        0.78981172, 0.78814505, 0.79315202, 0.79148884, 0.79482915]),\n",
       " 'std_test_score': array([0.02866022, 0.02558792, 0.02803171, 0.03078384, 0.0215338 ,\n",
       "        0.02358406, 0.0286162 , 0.02624168, 0.03059148, 0.0200726 ,\n",
       "        0.02923181, 0.02969454, 0.02735578, 0.02497815, 0.02420624,\n",
       "        0.02230672, 0.024055  , 0.02383563, 0.02990863, 0.02767329,\n",
       "        0.03287901, 0.02960044, 0.0288634 , 0.02354197, 0.02624226,\n",
       "        0.02997893, 0.03551992, 0.03912403, 0.03293005, 0.03319746,\n",
       "        0.02875188, 0.03339763, 0.03692839, 0.03615927, 0.03817965,\n",
       "        0.03255176, 0.02642424, 0.04193765, 0.03677475, 0.03797705,\n",
       "        0.03361185, 0.04007255, 0.03408143, 0.03151471, 0.03610777,\n",
       "        0.03861176, 0.03497735, 0.03479989, 0.03272642, 0.0330437 ,\n",
       "        0.03428965, 0.02519032, 0.03347157, 0.03452855, 0.03370775,\n",
       "        0.03185727, 0.0352923 , 0.03442159, 0.0319461 , 0.03691636,\n",
       "        0.033485  , 0.03359644, 0.03887835, 0.03823401, 0.03308991,\n",
       "        0.02786507, 0.0343874 , 0.03256897, 0.0314192 , 0.03702189,\n",
       "        0.03242875, 0.03292916, 0.03239739, 0.034584  , 0.02974146]),\n",
       " 'rank_test_score': array([65, 65, 47, 54, 59, 46, 74, 72, 70, 69, 53, 34, 71, 68, 36, 67, 64,\n",
       "        26, 25, 75, 52, 35, 60, 56, 61, 16, 44, 51, 47, 58, 38, 23, 19, 39,\n",
       "         6,  8, 63,  9, 13, 32, 30, 57,  9, 27, 14, 30, 33, 50,  4, 28, 73,\n",
       "        62, 41, 44, 20, 12,  3, 23, 15,  1, 21,  2, 17, 11,  5, 37, 39, 42,\n",
       "        49, 22, 43, 55, 18, 28,  7])}"
      ]
     },
     "execution_count": 17,
     "metadata": {},
     "output_type": "execute_result"
    }
   ],
   "source": [
    "gridCV.cv_results_"
   ]
  },
  {
   "cell_type": "code",
   "execution_count": 18,
   "metadata": {},
   "outputs": [
    {
     "data": {
      "image/png": "[encoded data removed]",
      "text/plain": [
       "<Figure size 864x432 with 2 Axes>"
      ]
     },
     "metadata": {
      "needs_background": "light"
     },
     "output_type": "display_data"
    }
   ],
   "source": [
    "import matplotlib.pyplot as plt\n",
    "%matplotlib inline\n",
    "\n",
    "# fetch scores, reshape into a grid \n",
    "scores =gridCV.cv_results_['mean_test_score']\n",
    "scores = scores.reshape(len(max_features), len(n_estimators))\n",
    "#scores = np.transpose(scores)\n",
    "\n",
    "# Make heatmap from grid search results\n",
    "plt.figure(figsize=(12, 6))\n",
    "plt.imshow(scores, interpolation='nearest', origin='higher', cmap='jet_r')\n",
    "plt.xticks(np.arange(len(n_estimators)), n_estimators)\n",
    "plt.yticks(np.arange(len(max_features)), max_features)\n",
    "plt.xlabel('Number of decision trees')\n",
    "plt.ylabel('Max features')\n",
    "plt.colorbar().set_label('Classification Accuracy', rotation=270, labelpad=20)\n",
    "plt.show()\n"
   ]
  },
  {
   "cell_type": "markdown",
   "metadata": {},
   "source": [
    "Finally, you can now train a new random forest on the wine dataset using what you have learned from the grid search:"
   ]
  },
  {
   "cell_type": "code",
   "execution_count": 19,
   "metadata": {},
   "outputs": [
    {
     "name": "stdout",
     "output_type": "stream",
     "text": [
      "              precision    recall  f1-score   support\n",
      "\n",
      "         0.0       0.80      0.84      0.82       188\n",
      "         1.0       0.85      0.82      0.83       212\n",
      "\n",
      "    accuracy                           0.82       400\n",
      "   macro avg       0.82      0.83      0.82       400\n",
      "weighted avg       0.83      0.82      0.83       400\n",
      "\n",
      "Overall Accuracy: 0.825\n"
     ]
    }
   ],
   "source": [
    "# Train classifier using optimal hyperparameter value\n",
    "# You could have also gotten this model out from gridCV.best_estimator_\n",
    "\n",
    "rf= RandomForestClassifier(n_estimators=best_n_estim,\n",
    "                          max_features=best_max_features)\n",
    "\n",
    "rf.fit(XTrain,yTrain)\n",
    "rf_preditcions = rf.predict(XTest)\n",
    "\n",
    "print(metrics.classification_report(yTest,rf_predictions))\n",
    "print(\"Overall Accuracy:\", round(metrics.accuracy_score(yTest,rf_predictions),4))"
   ]
  },
  {
   "cell_type": "markdown",
   "metadata": {},
   "source": [
    "Congratulations, you tuned and applied your random forest classifier! You now get ~0.825 accuracy. This is quite a bit better than the poorly parameterized models which yielded ~0.815 accuracy. Importantly, it was not too difficult to get this boost – scikit can do grid search with k-fold CV in 1 line of code. How could you try to improve performance further?\n",
    "\n",
    "Note that grid search with k-fold CV simply returns the best HP values out of the available options, and is therefore not guaranteed to return a global optimum. It makes sense to choose a diverse collection of possible values that is somewhat centred around an empirically sensible default."
   ]
  },
  {
   "cell_type": "markdown",
   "metadata": {},
   "source": [
    "## Conclusion\n",
    "So, that was an overview of the concepts and practicalities involved when tuning a random forest classifer. You started with the motivation for tuning machine learning algorithms (i.e. nicer, bigger numbers in your models’ performance reports!). You then evaluated different candidate models by simple trial and error, as well as by using grid search with k-fold cross validation. You then ran the best possible model on the test set in order to predict wine quality from a set of chemical characteristics, and made correct predictions 81% of the time. You could have chosen to tune various other hyperpramaters, but the two referenced above are regarded as quite important."
   ]
  },
  {
   "cell_type": "markdown",
   "metadata": {},
   "source": [
    "## Quick quiz:\n",
    "Now that you’re familiar with adjusting and optimizing the behaviour of random forests in classification tasks, see if you can tackle these questions (feel free to leave your answers in the comments section):\n",
    "\n",
    "1. How do you think that altering the n_estimators and max_depth HPs would affect the bias and variance of a random forest classifier?\n",
    "\n",
    "n_estimators 越多可以減少overfitting(減少variance，增加bias),max_depth越大會造成overfitting(減少bias,增加variance)。\n",
    "\n",
    "2. To get more of an intuition of how random forests operate, play around with printing the importance of the features with print (rf.feature_importances_) under different conditions. What happens to the features importances when you set max_depth=0?\n",
    "\n",
    "不能把max_depth設成0。\n",
    "\n",
    "3. Try setting max_features=1. What does this force the trees in the random forest to do? `\n",
    "\n",
    "每次劃分就只找一個特徵就劃分了，不會比較其他特徵。\n",
    "\n",
    "4. Bonus question: It is interesting that the random forest performs better on the wine data with quite low values of max_features. What do you think this says about the features in the dataset?\n",
    "\n",
    "features leads overfitting,or theses features are high correlation"
   ]
  },
  {
   "cell_type": "code",
   "execution_count": 23,
   "metadata": {},
   "outputs": [
    {
     "data": {
      "text/plain": [
       "array([0.07974502, 0.10265415, 0.07593293, 0.06637522, 0.08311479,\n",
       "       0.07066522, 0.09955795, 0.09514678, 0.07438876, 0.11034293,\n",
       "       0.14207625])"
      ]
     },
     "execution_count": 23,
     "metadata": {},
     "output_type": "execute_result"
    }
   ],
   "source": [
    "rf = RandomForestClassifier(max_features=1)\n",
    "rf.fit(XTrain,yTrain)\n",
    "rf.feature_importances_"
   ]
  },
  {
   "cell_type": "code",
   "execution_count": null,
   "metadata": {},
   "outputs": [],
   "source": []
  }
 ],
 "metadata": {
  "kernelspec": {
   "display_name": "Python 3",
   "language": "python",
   "name": "python3"
  },
  "language_info": {
   "codemirror_mode": {
    "name": "ipython",
    "version": 3
   },
   "file_extension": ".py",
   "mimetype": "text/x-python",
   "name": "python",
   "nbconvert_exporter": "python",
   "pygments_lexer": "ipython3",
   "version": "3.7.6"
  }
 },
 "nbformat": 4,
 "nbformat_minor": 2
}
