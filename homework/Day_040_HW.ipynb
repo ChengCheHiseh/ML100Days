{
 "cells": [
  {
   "cell_type": "markdown",
   "metadata": {},
   "source": [
    "## [作業重點]\n",
    "使用 Sklearn 中的 Lasso, Ridge 模型，來訓練各種資料集，務必了解送進去模型訓練的**資料型態**為何，也請了解模型中各項參數的意義。\n",
    "\n",
    "機器學習的模型非常多種，但要訓練的資料多半有固定的格式，確保你了解訓練資料的格式為何，這樣在應用新模型時，就能夠最快的上手開始訓練！"
   ]
  },
  {
   "cell_type": "markdown",
   "metadata": {},
   "source": [
    "## 練習時間\n",
    "試著使用 sklearn datasets 的其他資料集 (boston, ...)，來訓練自己的線性迴歸模型，並加上適當的正則化來觀察訓練情形。"
   ]
  },
  {
   "cell_type": "code",
   "execution_count": 1,
   "metadata": {},
   "outputs": [],
   "source": [
    "# import套件\n",
    "import numpy as np\n",
    "import matplotlib.pyplot as plt\n",
    "from sklearn import datasets,linear_model\n",
    "from sklearn.model_selection import train_test_split\n",
    "from sklearn.metrics import mean_absolute_error,mean_squared_error,r2_score"
   ]
  },
  {
   "cell_type": "code",
   "execution_count": 2,
   "metadata": {},
   "outputs": [
    {
     "name": "stdout",
     "output_type": "stream",
     "text": [
      "(506, 13)\n",
      "<class 'numpy.ndarray'>\n",
      "(506,)\n",
      "<class 'numpy.ndarray'>\n"
     ]
    }
   ],
   "source": [
    "# 讀取boston房價資料集\n",
    "boston = datasets.load_boston()\n",
    "print(boston.data.shape)\n",
    "print(type(boston.data))\n",
    "print(boston.target.shape)\n",
    "print(type(boston.target))"
   ]
  },
  {
   "cell_type": "code",
   "execution_count": 3,
   "metadata": {},
   "outputs": [],
   "source": [
    "# 切分資料集:\n",
    "x_train, x_test, y_train, y_test = train_test_split(boston.data,boston.target,test_size=0.3,random_state=42)"
   ]
  },
  {
   "cell_type": "markdown",
   "metadata": {},
   "source": [
    "## Lasso"
   ]
  },
  {
   "cell_type": "code",
   "execution_count": 4,
   "metadata": {},
   "outputs": [
    {
     "name": "stdout",
     "output_type": "stream",
     "text": [
      "[1.e-10 1.e-09 1.e-08 1.e-07 1.e-06 1.e-05 1.e-04 1.e-03 1.e-02 1.e-01\n",
      " 1.e+00 1.e+01 1.e+02 1.e+03 1.e+04 1.e+05 1.e+06 1.e+07 1.e+08 1.e+09\n",
      " 1.e+10]\n"
     ]
    }
   ],
   "source": [
    "# alpha值設定\n",
    "n_alphas =21\n",
    "alphas = np.logspace(-10,10,n_alphas)\n",
    "print(alphas)"
   ]
  },
  {
   "cell_type": "code",
   "execution_count": 5,
   "metadata": {},
   "outputs": [
    {
     "name": "stdout",
     "output_type": "stream",
     "text": [
      "alpha 為 1e-10 mse:24.868110456723876\n",
      "alpha 為 1e-09 mse:24.868110460990795\n",
      "alpha 為 1e-08 mse:24.868110503659725\n",
      "alpha 為 1e-07 mse:24.868110930352003\n",
      "alpha 為 1e-06 mse:24.868115197575683\n",
      "alpha 為 1e-05 mse:24.868157899872603\n",
      "alpha 為 0.0001 mse:24.868587928895426\n",
      "alpha 為 0.001 mse:24.873229801566133\n",
      "alpha 為 0.01 mse:24.927746524719755\n",
      "alpha 為 0.1 mse:24.988183059861107\n",
      "alpha 為 1.0 mse:28.1802936885828\n",
      "alpha 為 10.0 mse:57.07563498676674\n",
      "alpha 為 100.0 mse:75.47642312786566\n",
      "alpha 為 1000.0 mse:76.31172051697722\n",
      "alpha 為 10000.0 mse:532.811052631579\n",
      "alpha 為 100000.0 mse:532.811052631579\n",
      "alpha 為 1000000.0 mse:532.811052631579\n",
      "alpha 為 10000000.0 mse:532.811052631579\n",
      "alpha 為 100000000.0 mse:532.811052631579\n",
      "alpha 為 1000000000.0 mse:532.811052631579\n",
      "alpha 為 10000000000.0 mse:532.811052631579\n",
      "[array([-0.1198444 ,  0.03835321,  0.03804869,  3.05965051, -2.09541141,\n",
      "        5.8434006 , -0.01508115, -0.91904701,  0.11697476, -0.00608493,\n",
      "       -0.42826635,  0.01663971, -0.46638625]), array([-0.1198444 ,  0.03835321,  0.03804869,  3.05965049, -2.09541118,\n",
      "        5.84340059, -0.01508115, -0.91904701,  0.11697476, -0.00608493,\n",
      "       -0.42826635,  0.01663971, -0.46638625]), array([-0.1198444 ,  0.03835321,  0.03804868,  3.05965034, -2.09540886,\n",
      "        5.84340047, -0.01508116, -0.91904698,  0.11697476, -0.00608493,\n",
      "       -0.42826635,  0.01663971, -0.46638626]), array([-0.11984438,  0.03835322,  0.03804855,  3.05964879, -2.09538568,\n",
      "        5.84339928, -0.01508118, -0.91904677,  0.11697477, -0.00608493,\n",
      "       -0.4282663 ,  0.0166397 , -0.46638639]), array([-0.11984425,  0.03835324,  0.03804729,  3.05963328, -2.09515388,\n",
      "        5.84338733, -0.01508139, -0.91904462,  0.11697483, -0.00608498,\n",
      "       -0.42826584,  0.01663968, -0.4663877 ]), array([-0.1198429 ,  0.03835349,  0.03803469,  3.05947819, -2.09283592,\n",
      "        5.84326792, -0.01508348, -0.91902312,  0.11697551, -0.00608541,\n",
      "       -0.4282612 ,  0.01663947, -0.46640075]), array([-0.11982938,  0.03835596,  0.03790874,  3.05792729, -2.06965628,\n",
      "        5.84207374, -0.01510439, -0.91880812,  0.11698226, -0.00608976,\n",
      "       -0.42821485,  0.01663731, -0.46653123]), array([-0.11969395,  0.03838086,  0.03664846,  3.0424516 , -1.83832996,\n",
      "        5.83011979, -0.01531321, -0.916668  ,  0.11704131, -0.00613273,\n",
      "       -0.42774331,  0.01661591, -0.46783531]), array([-0.1186318 ,  0.03858471,  0.02672684,  2.8917932 , -0.        ,\n",
      "        5.7328704 , -0.01685833, -0.89860639,  0.11762719, -0.0064768 ,\n",
      "       -0.42375771,  0.01645506, -0.4785535 ]), array([-0.1190462 ,  0.03905289,  0.03017468,  1.55585429, -0.        ,\n",
      "        5.60855267, -0.01143621, -0.85126475,  0.12006305, -0.00644167,\n",
      "       -0.40777255,  0.01695214, -0.49638679]), array([-8.72099358e-02,  3.31826766e-02,  0.00000000e+00,  0.00000000e+00,\n",
      "        0.00000000e+00,  4.07881475e+00,  2.64804267e-02, -2.38632699e-01,\n",
      "        1.90123707e-02, -1.18157284e-03, -1.46975777e-01,  1.82995877e-02,\n",
      "       -6.01823715e-01]), array([-0.        ,  0.09506069, -0.        ,  0.        ,  0.        ,\n",
      "        0.        ,  0.07204789,  0.        , -0.        ,  0.00532824,\n",
      "        0.        ,  0.05680063, -0.5048732 ]), array([-0.        ,  0.        , -0.        ,  0.        ,  0.        ,\n",
      "        0.        ,  0.        ,  0.        , -0.        , -0.        ,\n",
      "        0.        ,  0.06166601, -0.        ]), array([-0.        ,  0.        ,  0.        ,  0.        ,  0.        ,\n",
      "        0.        ,  0.        ,  0.        ,  0.        ,  0.        ,\n",
      "        0.        ,  0.05509283,  0.        ]), array([0., 0., 0., 0., 0., 0., 0., 0., 0., 0., 0., 0., 0.]), array([0., 0., 0., 0., 0., 0., 0., 0., 0., 0., 0., 0., 0.]), array([0., 0., 0., 0., 0., 0., 0., 0., 0., 0., 0., 0., 0.]), array([0., 0., 0., 0., 0., 0., 0., 0., 0., 0., 0., 0., 0.]), array([0., 0., 0., 0., 0., 0., 0., 0., 0., 0., 0., 0., 0.]), array([0., 0., 0., 0., 0., 0., 0., 0., 0., 0., 0., 0., 0.]), array([0., 0., 0., 0., 0., 0., 0., 0., 0., 0., 0., 0., 0.])]\n"
     ]
    },
    {
     "name": "stderr",
     "output_type": "stream",
     "text": [
      "C:\\Users\\Jason\\anaconda3\\lib\\site-packages\\sklearn\\linear_model\\_coordinate_descent.py:476: ConvergenceWarning: Objective did not converge. You might want to increase the number of iterations. Duality gap: 4310.773086571519, tolerance: 21.863906\n",
      "  positive)\n",
      "C:\\Users\\Jason\\anaconda3\\lib\\site-packages\\sklearn\\linear_model\\_coordinate_descent.py:476: ConvergenceWarning: Objective did not converge. You might want to increase the number of iterations. Duality gap: 4310.760709402087, tolerance: 21.863906\n",
      "  positive)\n",
      "C:\\Users\\Jason\\anaconda3\\lib\\site-packages\\sklearn\\linear_model\\_coordinate_descent.py:476: ConvergenceWarning: Objective did not converge. You might want to increase the number of iterations. Duality gap: 4310.636936723263, tolerance: 21.863906\n",
      "  positive)\n",
      "C:\\Users\\Jason\\anaconda3\\lib\\site-packages\\sklearn\\linear_model\\_coordinate_descent.py:476: ConvergenceWarning: Objective did not converge. You might want to increase the number of iterations. Duality gap: 4309.399111474645, tolerance: 21.863906\n",
      "  positive)\n",
      "C:\\Users\\Jason\\anaconda3\\lib\\site-packages\\sklearn\\linear_model\\_coordinate_descent.py:476: ConvergenceWarning: Objective did not converge. You might want to increase the number of iterations. Duality gap: 4297.011013042521, tolerance: 21.863906\n",
      "  positive)\n",
      "C:\\Users\\Jason\\anaconda3\\lib\\site-packages\\sklearn\\linear_model\\_coordinate_descent.py:476: ConvergenceWarning: Objective did not converge. You might want to increase the number of iterations. Duality gap: 4172.145612377637, tolerance: 21.863906\n",
      "  positive)\n",
      "C:\\Users\\Jason\\anaconda3\\lib\\site-packages\\sklearn\\linear_model\\_coordinate_descent.py:476: ConvergenceWarning: Objective did not converge. You might want to increase the number of iterations. Duality gap: 2828.872961074249, tolerance: 21.863906\n",
      "  positive)\n"
     ]
    }
   ],
   "source": [
    "# 初始化一個Lasso regression\n",
    "Lare = linear_model.Lasso(fit_intercept=False)\n",
    "# 參數矩陣\n",
    "coefs = []\n",
    "# 根據不同的alphas訓練出不同的參數模型\n",
    "for i in alphas:\n",
    "    Lare.set_params(alpha=i)\n",
    "    Lare.fit(x_train,y_train)\n",
    "    coefs.append(Lare.coef_)\n",
    "    print(\"alpha 為 {} mse:{}\".format(i,mean_squared_error(y_test,Lare.predict(x_test))))\n",
    "print(coefs)"
   ]
  },
  {
   "cell_type": "markdown",
   "metadata": {},
   "source": [
    "alpha 越大，就有越多項係數變成0的趨勢，但不一定模型會越好，可以看到mse變大，可能就是underfitting。"
   ]
  },
  {
   "cell_type": "markdown",
   "metadata": {},
   "source": [
    "## Ridge"
   ]
  },
  {
   "cell_type": "code",
   "execution_count": 6,
   "metadata": {},
   "outputs": [
    {
     "data": {
      "text/plain": [
       "array([1.e-10, 1.e-09, 1.e-08, 1.e-07, 1.e-06, 1.e-05, 1.e-04, 1.e-03,\n",
       "       1.e-02, 1.e-01, 1.e+00, 1.e+01, 1.e+02, 1.e+03, 1.e+04, 1.e+05,\n",
       "       1.e+06, 1.e+07, 1.e+08, 1.e+09, 1.e+10])"
      ]
     },
     "execution_count": 6,
     "metadata": {},
     "output_type": "execute_result"
    }
   ],
   "source": [
    "# alpha設定\n",
    "n_alphas= 21 \n",
    "alphas = np.logspace(-10,10,n_alphas)\n",
    "alphas"
   ]
  },
  {
   "cell_type": "code",
   "execution_count": 7,
   "metadata": {},
   "outputs": [
    {
     "name": "stdout",
     "output_type": "stream",
     "text": [
      "alpha 為 1e-10 MSE:21.5174442312449\n",
      "alpha 為 1e-09 MSE:21.517444231853542\n",
      "alpha 為 1e-08 MSE:21.517444237939976\n",
      "alpha 為 1e-07 MSE:21.517444298804364\n",
      "alpha 為 1e-06 MSE:21.517444907448233\n",
      "alpha 為 1e-05 MSE:21.517450993893338\n",
      "alpha 為 0.0001 MSE:21.51751185896815\n",
      "alpha 為 0.001 MSE:21.518120571402402\n",
      "alpha 為 0.01 MSE:21.524213182006534\n",
      "alpha 為 0.1 MSE:21.585115915024293\n",
      "alpha 為 1.0 MSE:22.044053089861002\n",
      "alpha 為 10.0 MSE:22.69533504291413\n",
      "alpha 為 100.0 MSE:23.46836921620301\n",
      "alpha 為 1000.0 MSE:27.100378166370252\n",
      "alpha 為 10000.0 MSE:34.71267667283183\n",
      "alpha 為 100000.0 MSE:47.3287998907359\n",
      "alpha 為 1000000.0 MSE:53.62046702111352\n",
      "alpha 為 10000000.0 MSE:60.23335134980916\n",
      "alpha 為 100000000.0 MSE:73.12123067045427\n",
      "alpha 為 1000000000.0 MSE:76.644574738863\n",
      "alpha 為 10000000000.0 MSE:77.0524818542377\n",
      "[array([-1.33470103e-01,  3.58089136e-02,  4.95226452e-02,  3.11983512e+00,\n",
      "       -1.54170609e+01,  4.05719923e+00, -1.08208352e-02, -1.38599824e+00,\n",
      "        2.42727340e-01, -8.70223437e-03, -9.10685208e-01,  1.17941159e-02,\n",
      "       -5.47113313e-01]), array([-1.33470103e-01,  3.58089136e-02,  4.95226452e-02,  3.11983512e+00,\n",
      "       -1.54170609e+01,  4.05719923e+00, -1.08208352e-02, -1.38599824e+00,\n",
      "        2.42727340e-01, -8.70223437e-03, -9.10685208e-01,  1.17941159e-02,\n",
      "       -5.47113313e-01]), array([-1.33470103e-01,  3.58089136e-02,  4.95226446e-02,  3.11983511e+00,\n",
      "       -1.54170607e+01,  4.05719923e+00, -1.08208353e-02, -1.38599824e+00,\n",
      "        2.42727339e-01, -8.70223438e-03, -9.10685206e-01,  1.17941159e-02,\n",
      "       -5.47113313e-01]), array([-1.33470102e-01,  3.58089138e-02,  4.95226390e-02,  3.11983509e+00,\n",
      "       -1.54170594e+01,  4.05719924e+00, -1.08208365e-02, -1.38599822e+00,\n",
      "        2.42727336e-01, -8.70223449e-03, -9.10685191e-01,  1.17941159e-02,\n",
      "       -5.47113316e-01]), array([-1.33470093e-01,  3.58089156e-02,  4.95225830e-02,  3.11983486e+00,\n",
      "       -1.54170460e+01,  4.05719928e+00, -1.08208482e-02, -1.38599802e+00,\n",
      "        2.42727304e-01, -8.70223562e-03, -9.10685042e-01,  1.17941163e-02,\n",
      "       -5.47113342e-01]), array([-1.33470000e-01,  3.58089337e-02,  4.95220229e-02,  3.11983259e+00,\n",
      "       -1.54169124e+01,  4.05719972e+00, -1.08209649e-02, -1.38599599e+00,\n",
      "        2.42726980e-01, -8.70224690e-03, -9.10683543e-01,  1.17941196e-02,\n",
      "       -5.47113601e-01]), array([-1.33469074e-01,  3.58091146e-02,  4.95164230e-02,  3.11980982e+00,\n",
      "       -1.54155763e+01,  4.05720411e+00, -1.08221326e-02, -1.38597574e+00,\n",
      "        2.42723740e-01, -8.70235969e-03, -9.10668558e-01,  1.17941527e-02,\n",
      "       -5.47116198e-01]), array([-1.33459822e-01,  3.58109222e-02,  4.94604772e-02,  3.11958230e+00,\n",
      "       -1.54022282e+01,  4.05724796e+00, -1.08337980e-02, -1.38577337e+00,\n",
      "        2.42691376e-01, -8.70348663e-03, -9.10518858e-01,  1.17944841e-02,\n",
      "       -5.47142147e-01]), array([-1.33368212e-01,  3.58288489e-02,  4.89063172e-02,  3.11731798e+00,\n",
      "       -1.52700049e+01,  4.05767912e+00, -1.09493180e-02, -1.38376889e+00,\n",
      "        2.42370989e-01, -8.71465694e-03, -9.09036202e-01,  1.17977671e-02,\n",
      "       -5.47399480e-01]), array([-1.32535034e-01,  3.59944827e-02,  4.38480378e-02,  3.09567615e+00,\n",
      "       -1.40625952e+01,  4.06131940e+00, -1.20010626e-02, -1.36547356e+00,\n",
      "        2.39463689e-01, -8.81732204e-03, -8.95518536e-01,  1.18278475e-02,\n",
      "       -5.49776010e-01]), array([-0.1284272 ,  0.03695233,  0.01791436,  2.93269454, -7.84806046,\n",
      "        4.06357438, -0.01724174, -1.27176091,  0.22549398, -0.00938149,\n",
      "       -0.82710453,  0.01198771, -0.56347377]), array([-0.12654829,  0.03949869, -0.00876197,  2.1075846 , -1.43398714,\n",
      "        3.78284788, -0.01984583, -1.1782535 ,  0.22528376, -0.01045896,\n",
      "       -0.77353334,  0.01217335, -0.60103062]), array([-0.13028354,  0.04487951, -0.02655016,  0.61111052, -0.14154005,\n",
      "        2.13341762, -0.00419869, -1.06661305,  0.2714209 , -0.0121186 ,\n",
      "       -0.81232742,  0.01161532, -0.72158673]), array([-0.11687415,  0.04339129, -0.02764533,  0.09616057, -0.00472648,\n",
      "        0.46635231,  0.02623474, -0.48189966,  0.24045272, -0.01175902,\n",
      "       -0.58506014,  0.01052868, -0.79560527]), array([-8.29032728e-02,  4.81747850e-02, -4.42995101e-02,  1.49438531e-02,\n",
      "        1.03530433e-04,  8.37660651e-02,  1.55298150e-02, -7.93342451e-02,\n",
      "        7.89164363e-02, -1.09172511e-02, -1.40478614e-01,  1.22750038e-02,\n",
      "       -4.78772438e-01]), array([-0.02296286,  0.03995828, -0.01567945,  0.00189309, -0.00010753,\n",
      "        0.0119693 , -0.01822683, -0.00681228,  0.00910852, -0.01604138,\n",
      "       -0.01872878,  0.01548351, -0.09425758]), array([-3.40091484e-03,  1.15893972e-02, -3.20017430e-03,  1.93946930e-04,\n",
      "       -3.85142004e-05,  1.33794925e-03, -9.81587833e-03, -1.13329959e-04,\n",
      "        1.23851491e-05, -1.89777912e-02, -2.18233739e-03,  1.34361990e-02,\n",
      "       -1.15862451e-02]), array([-6.56233493e-04,  1.85355189e-03, -6.59874367e-04,  1.95704215e-05,\n",
      "       -9.41256885e-06,  1.49240364e-04, -2.09022172e-03,  7.65302147e-05,\n",
      "       -4.79135223e-04, -1.18822282e-02, -2.85342966e-04,  5.36312149e-03,\n",
      "       -1.44577180e-03]), array([-9.75917184e-05,  2.35784807e-04, -9.83560564e-05,  1.96082384e-06,\n",
      "       -1.45760003e-06,  1.63311638e-05, -3.00852122e-04,  1.52896795e-05,\n",
      "       -9.85946866e-05, -2.25294286e-03, -3.52712949e-05,  8.64916446e-04,\n",
      "       -1.70320923e-04]), array([-1.04059295e-05,  2.45694996e-05, -1.04881158e-05,  1.96088901e-07,\n",
      "       -1.56138819e-07,  1.66143929e-06, -3.19130507e-05,  1.68165196e-06,\n",
      "       -1.08892982e-05, -2.46960326e-04, -3.66379693e-06,  9.28484925e-05,\n",
      "       -1.75474051e-05]), array([-1.04772964e-06,  2.46785480e-06, -1.05600950e-06,  1.96088730e-08,\n",
      "       -1.57283376e-08,  1.66456331e-07, -3.21144321e-06,  1.69848114e-07,\n",
      "       -1.10029871e-06, -2.49352538e-05, -3.67888280e-07,  9.35463572e-06,\n",
      "       -1.76042076e-06])]\n"
     ]
    }
   ],
   "source": [
    "# 初始化模型\n",
    "Rire = linear_model.Ridge()\n",
    "# 係數矩陣\n",
    "coefs =[]\n",
    "\n",
    "for i in alphas:\n",
    "    Rire.set_params(alpha=i)\n",
    "    Rire.fit(x_train,y_train)\n",
    "    coefs.append(Rire.coef_)\n",
    "    print(\"alpha 為 {} MSE:{}\".format(i,mean_squared_error(y_test,Rire.predict(x_test))))\n",
    "print(coefs)"
   ]
  },
  {
   "cell_type": "markdown",
   "metadata": {},
   "source": [
    "alpha 越大，就有越多項係數逼近0但不是0，但不一定模型會越好，可以看到mse變大，可能就是underfitting。"
   ]
  },
  {
   "cell_type": "code",
   "execution_count": null,
   "metadata": {},
   "outputs": [],
   "source": []
  }
 ],
 "metadata": {
  "kernelspec": {
   "display_name": "Python 3",
   "language": "python",
   "name": "python3"
  },
  "language_info": {
   "codemirror_mode": {
    "name": "ipython",
    "version": 3
   },
   "file_extension": ".py",
   "mimetype": "text/x-python",
   "name": "python",
   "nbconvert_exporter": "python",
   "pygments_lexer": "ipython3",
   "version": "3.7.6"
  }
 },
 "nbformat": 4,
 "nbformat_minor": 2
}
